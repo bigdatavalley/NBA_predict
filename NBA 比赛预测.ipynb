{
 "cells": [
  {
   "cell_type": "code",
   "execution_count": 109,
   "metadata": {},
   "outputs": [
    {
     "data": {
      "text/html": [
       "<div>\n",
       "<style scoped>\n",
       "    .dataframe tbody tr th:only-of-type {\n",
       "        vertical-align: middle;\n",
       "    }\n",
       "\n",
       "    .dataframe tbody tr th {\n",
       "        vertical-align: top;\n",
       "    }\n",
       "\n",
       "    .dataframe thead th {\n",
       "        text-align: right;\n",
       "    }\n",
       "</style>\n",
       "<table border=\"1\" class=\"dataframe\">\n",
       "  <thead>\n",
       "    <tr style=\"text-align: right;\">\n",
       "      <th></th>\n",
       "      <th>Date</th>\n",
       "      <th>Start(ET)</th>\n",
       "      <th>Visitor Team</th>\n",
       "      <th>VisitorPts</th>\n",
       "      <th>Home Team</th>\n",
       "      <th>HomePts</th>\n",
       "      <th>OT?</th>\n",
       "      <th>Score Type</th>\n",
       "      <th>Notes</th>\n",
       "    </tr>\n",
       "  </thead>\n",
       "  <tbody>\n",
       "    <tr>\n",
       "      <td>0</td>\n",
       "      <td>2018-10-16</td>\n",
       "      <td>8:00p</td>\n",
       "      <td>Philadelphia 76ers</td>\n",
       "      <td>87</td>\n",
       "      <td>Boston Celtics</td>\n",
       "      <td>105</td>\n",
       "      <td>Box Score</td>\n",
       "      <td>NaN</td>\n",
       "      <td>NaN</td>\n",
       "    </tr>\n",
       "    <tr>\n",
       "      <td>1</td>\n",
       "      <td>2018-10-16</td>\n",
       "      <td>10:30p</td>\n",
       "      <td>Oklahoma City Thunder</td>\n",
       "      <td>100</td>\n",
       "      <td>Golden State Warriors</td>\n",
       "      <td>108</td>\n",
       "      <td>Box Score</td>\n",
       "      <td>NaN</td>\n",
       "      <td>NaN</td>\n",
       "    </tr>\n",
       "    <tr>\n",
       "      <td>2</td>\n",
       "      <td>2018-10-17</td>\n",
       "      <td>7:00p</td>\n",
       "      <td>Milwaukee Bucks</td>\n",
       "      <td>113</td>\n",
       "      <td>Charlotte Hornets</td>\n",
       "      <td>112</td>\n",
       "      <td>Box Score</td>\n",
       "      <td>NaN</td>\n",
       "      <td>NaN</td>\n",
       "    </tr>\n",
       "    <tr>\n",
       "      <td>3</td>\n",
       "      <td>2018-10-17</td>\n",
       "      <td>7:00p</td>\n",
       "      <td>Brooklyn Nets</td>\n",
       "      <td>100</td>\n",
       "      <td>Detroit Pistons</td>\n",
       "      <td>103</td>\n",
       "      <td>Box Score</td>\n",
       "      <td>NaN</td>\n",
       "      <td>NaN</td>\n",
       "    </tr>\n",
       "    <tr>\n",
       "      <td>4</td>\n",
       "      <td>2018-10-17</td>\n",
       "      <td>7:00p</td>\n",
       "      <td>Memphis Grizzlies</td>\n",
       "      <td>83</td>\n",
       "      <td>Indiana Pacers</td>\n",
       "      <td>111</td>\n",
       "      <td>Box Score</td>\n",
       "      <td>NaN</td>\n",
       "      <td>NaN</td>\n",
       "    </tr>\n",
       "  </tbody>\n",
       "</table>\n",
       "</div>"
      ],
      "text/plain": [
       "        Date Start(ET)           Visitor Team  VisitorPts  \\\n",
       "0 2018-10-16     8:00p     Philadelphia 76ers          87   \n",
       "1 2018-10-16    10:30p  Oklahoma City Thunder         100   \n",
       "2 2018-10-17     7:00p        Milwaukee Bucks         113   \n",
       "3 2018-10-17     7:00p          Brooklyn Nets         100   \n",
       "4 2018-10-17     7:00p      Memphis Grizzlies          83   \n",
       "\n",
       "               Home Team  HomePts        OT? Score Type Notes  \n",
       "0         Boston Celtics      105  Box Score        NaN   NaN  \n",
       "1  Golden State Warriors      108  Box Score        NaN   NaN  \n",
       "2      Charlotte Hornets      112  Box Score        NaN   NaN  \n",
       "3        Detroit Pistons      103  Box Score        NaN   NaN  \n",
       "4         Indiana Pacers      111  Box Score        NaN   NaN  "
      ]
     },
     "execution_count": 109,
     "metadata": {},
     "output_type": "execute_result"
    }
   ],
   "source": [
    "import pandas as pd\n",
    "\n",
    "path = 'basketball.csv'\n",
    "dataset = pd.read_csv(path, parse_dates=['Date'])\n",
    "dataset.columns = [\n",
    "    'Date', 'Start(ET)', 'Visitor Team', 'VisitorPts', 'Home Team', 'HomePts',\n",
    "    'OT?', 'Score Type', 'Notes'\n",
    "]\n",
    "dataset.head()"
   ]
  },
  {
   "cell_type": "code",
   "execution_count": 110,
   "metadata": {},
   "outputs": [
    {
     "data": {
      "text/plain": [
       "array([ True,  True, False, ..., False, False, False])"
      ]
     },
     "execution_count": 110,
     "metadata": {},
     "output_type": "execute_result"
    }
   ],
   "source": [
    "# 提取新特征\n",
    "\n",
    "dataset['HomeWin'] = dataset['VisitorPts'] < dataset['HomePts']\n",
    "\n",
    "# 保留成label\n",
    "y_true = dataset['HomeWin'].values\n",
    "y_true"
   ]
  },
  {
   "cell_type": "code",
   "execution_count": 111,
   "metadata": {},
   "outputs": [
    {
     "data": {
      "text/plain": [
       "0.5907012195121951"
      ]
     },
     "execution_count": 111,
     "metadata": {},
     "output_type": "execute_result"
    }
   ],
   "source": [
    "dataset['HomeWin'].mean()"
   ]
  },
  {
   "cell_type": "code",
   "execution_count": 131,
   "metadata": {},
   "outputs": [
    {
     "data": {
      "text/plain": [
       "array([[0, 0],\n",
       "       [0, 0],\n",
       "       [0, 0],\n",
       "       ...,\n",
       "       [0, 1],\n",
       "       [1, 0],\n",
       "       [1, 0]])"
      ]
     },
     "execution_count": 131,
     "metadata": {},
     "output_type": "execute_result"
    }
   ],
   "source": [
    "from collections import defaultdict\n",
    "\n",
    "won_last = defaultdict(int)\n",
    "dataset['HomeLastWin'] = 0\n",
    "dataset['VisitorLastWin'] = 0\n",
    "\n",
    "# 时间是无序的时候dataset.sort('Date').iterrows()\n",
    "for index, row in dataset.iterrows():\n",
    "    home_team = row['Home Team']\n",
    "    visitor_team = row['Visitor Team']\n",
    "    dataset.at[index, 'HomeLastWin'] = won_last[home_team]\n",
    "    dataset.at[index, 'VisitorLastWin'] = won_last[visitor_team]\n",
    "    won_last[home_team] = int(row['HomeWin'])\n",
    "    won_last[visitor_team] = 1 - int(row['HomeWin'])\n",
    "\n",
    "X_previouswins = dataset[['HomeLastWin', 'VisitorLastWin']].values\n",
    "X_previouswins"
   ]
  },
  {
   "cell_type": "code",
   "execution_count": 113,
   "metadata": {},
   "outputs": [
    {
     "name": "stdout",
     "output_type": "stream",
     "text": [
      "score is:59.1%\n"
     ]
    }
   ],
   "source": [
    "from sklearn.tree import DecisionTreeClassifier\n",
    "from sklearn.model_selection import cross_val_score\n",
    "import numpy as np\n",
    "\n",
    "clf = DecisionTreeClassifier(random_state=42)\n",
    "\n",
    "score = cross_val_score(clf, X_previouswins, y_true, scoring = 'accuracy')\n",
    "print('score is:{0:.1f}%'.format(np.mean(score)*100))"
   ]
  },
  {
   "cell_type": "code",
   "execution_count": 126,
   "metadata": {},
   "outputs": [
    {
     "data": {
      "text/plain": [
       "array([[0, 0],\n",
       "       [0, 0],\n",
       "       [0, 0],\n",
       "       ...,\n",
       "       [0, 1],\n",
       "       [1, 0],\n",
       "       [1, 0]])"
      ]
     },
     "execution_count": 126,
     "metadata": {},
     "output_type": "execute_result"
    }
   ],
   "source": [
    "X_previouswins"
   ]
  },
  {
   "cell_type": "code",
   "execution_count": 132,
   "metadata": {
    "scrolled": true
   },
   "outputs": [
    {
     "data": {
      "text/html": [
       "<div>\n",
       "<style scoped>\n",
       "    .dataframe tbody tr th:only-of-type {\n",
       "        vertical-align: middle;\n",
       "    }\n",
       "\n",
       "    .dataframe tbody tr th {\n",
       "        vertical-align: top;\n",
       "    }\n",
       "\n",
       "    .dataframe thead th {\n",
       "        text-align: right;\n",
       "    }\n",
       "</style>\n",
       "<table border=\"1\" class=\"dataframe\">\n",
       "  <thead>\n",
       "    <tr style=\"text-align: right;\">\n",
       "      <th></th>\n",
       "      <th>Rk</th>\n",
       "      <th>Team</th>\n",
       "      <th>Overall</th>\n",
       "      <th>Home</th>\n",
       "      <th>Road</th>\n",
       "      <th>E</th>\n",
       "      <th>W</th>\n",
       "      <th>A</th>\n",
       "      <th>C</th>\n",
       "      <th>SE</th>\n",
       "      <th>...</th>\n",
       "      <th>Post</th>\n",
       "      <th>≤3</th>\n",
       "      <th>≥10</th>\n",
       "      <th>Oct</th>\n",
       "      <th>Nov</th>\n",
       "      <th>Dec</th>\n",
       "      <th>Jan</th>\n",
       "      <th>Feb</th>\n",
       "      <th>Mar</th>\n",
       "      <th>Apr</th>\n",
       "    </tr>\n",
       "  </thead>\n",
       "  <tbody>\n",
       "    <tr>\n",
       "      <td>0</td>\n",
       "      <td>1</td>\n",
       "      <td>Houston Rockets</td>\n",
       "      <td>65-17</td>\n",
       "      <td>34-7</td>\n",
       "      <td>31-10</td>\n",
       "      <td>24-6</td>\n",
       "      <td>41-11</td>\n",
       "      <td>6-4</td>\n",
       "      <td>9-1</td>\n",
       "      <td>9-1</td>\n",
       "      <td>...</td>\n",
       "      <td>21-4</td>\n",
       "      <td>5-3</td>\n",
       "      <td>38-8</td>\n",
       "      <td>5-3</td>\n",
       "      <td>12-1</td>\n",
       "      <td>9-5</td>\n",
       "      <td>10-4</td>\n",
       "      <td>12-0</td>\n",
       "      <td>14-1</td>\n",
       "      <td>3-3</td>\n",
       "    </tr>\n",
       "    <tr>\n",
       "      <td>1</td>\n",
       "      <td>2</td>\n",
       "      <td>Toronto Raptors</td>\n",
       "      <td>59-23</td>\n",
       "      <td>34-7</td>\n",
       "      <td>25-16</td>\n",
       "      <td>40-12</td>\n",
       "      <td>19-11</td>\n",
       "      <td>12-4</td>\n",
       "      <td>14-4</td>\n",
       "      <td>14-4</td>\n",
       "      <td>...</td>\n",
       "      <td>18-7</td>\n",
       "      <td>5-7</td>\n",
       "      <td>33-5</td>\n",
       "      <td>4-2</td>\n",
       "      <td>9-5</td>\n",
       "      <td>11-3</td>\n",
       "      <td>10-5</td>\n",
       "      <td>9-2</td>\n",
       "      <td>12-4</td>\n",
       "      <td>4-2</td>\n",
       "    </tr>\n",
       "    <tr>\n",
       "      <td>2</td>\n",
       "      <td>3</td>\n",
       "      <td>Golden State Warriors</td>\n",
       "      <td>58-24</td>\n",
       "      <td>29-12</td>\n",
       "      <td>29-12</td>\n",
       "      <td>24-6</td>\n",
       "      <td>34-18</td>\n",
       "      <td>9-1</td>\n",
       "      <td>6-4</td>\n",
       "      <td>9-1</td>\n",
       "      <td>...</td>\n",
       "      <td>14-10</td>\n",
       "      <td>5-1</td>\n",
       "      <td>38-13</td>\n",
       "      <td>5-3</td>\n",
       "      <td>11-3</td>\n",
       "      <td>13-2</td>\n",
       "      <td>11-3</td>\n",
       "      <td>8-3</td>\n",
       "      <td>7-7</td>\n",
       "      <td>3-3</td>\n",
       "    </tr>\n",
       "    <tr>\n",
       "      <td>3</td>\n",
       "      <td>4</td>\n",
       "      <td>Boston Celtics</td>\n",
       "      <td>55-27</td>\n",
       "      <td>27-14</td>\n",
       "      <td>28-13</td>\n",
       "      <td>33-19</td>\n",
       "      <td>22-8</td>\n",
       "      <td>12-4</td>\n",
       "      <td>10-8</td>\n",
       "      <td>11-7</td>\n",
       "      <td>...</td>\n",
       "      <td>15-8</td>\n",
       "      <td>11-8</td>\n",
       "      <td>25-9</td>\n",
       "      <td>5-2</td>\n",
       "      <td>14-2</td>\n",
       "      <td>11-6</td>\n",
       "      <td>7-5</td>\n",
       "      <td>7-4</td>\n",
       "      <td>9-4</td>\n",
       "      <td>2-4</td>\n",
       "    </tr>\n",
       "    <tr>\n",
       "      <td>4</td>\n",
       "      <td>5</td>\n",
       "      <td>Philadelphia 76ers</td>\n",
       "      <td>52-30</td>\n",
       "      <td>30-11</td>\n",
       "      <td>22-19</td>\n",
       "      <td>34-18</td>\n",
       "      <td>18-12</td>\n",
       "      <td>9-7</td>\n",
       "      <td>11-7</td>\n",
       "      <td>14-4</td>\n",
       "      <td>...</td>\n",
       "      <td>22-5</td>\n",
       "      <td>4-7</td>\n",
       "      <td>31-11</td>\n",
       "      <td>3-4</td>\n",
       "      <td>9-5</td>\n",
       "      <td>5-10</td>\n",
       "      <td>7-5</td>\n",
       "      <td>8-3</td>\n",
       "      <td>13-3</td>\n",
       "      <td>7-0</td>\n",
       "    </tr>\n",
       "  </tbody>\n",
       "</table>\n",
       "<p>5 rows × 24 columns</p>\n",
       "</div>"
      ],
      "text/plain": [
       "   Rk                   Team Overall   Home   Road      E      W     A     C  \\\n",
       "0   1        Houston Rockets   65-17   34-7  31-10   24-6  41-11   6-4   9-1   \n",
       "1   2        Toronto Raptors   59-23   34-7  25-16  40-12  19-11  12-4  14-4   \n",
       "2   3  Golden State Warriors   58-24  29-12  29-12   24-6  34-18   9-1   6-4   \n",
       "3   4         Boston Celtics   55-27  27-14  28-13  33-19   22-8  12-4  10-8   \n",
       "4   5     Philadelphia 76ers   52-30  30-11  22-19  34-18  18-12   9-7  11-7   \n",
       "\n",
       "     SE  ...   Post    ≤3    ≥10  Oct   Nov   Dec   Jan   Feb   Mar  Apr  \n",
       "0   9-1  ...   21-4   5-3   38-8  5-3  12-1   9-5  10-4  12-0  14-1  3-3  \n",
       "1  14-4  ...   18-7   5-7   33-5  4-2   9-5  11-3  10-5   9-2  12-4  4-2  \n",
       "2   9-1  ...  14-10   5-1  38-13  5-3  11-3  13-2  11-3   8-3   7-7  3-3  \n",
       "3  11-7  ...   15-8  11-8   25-9  5-2  14-2  11-6   7-5   7-4   9-4  2-4  \n",
       "4  14-4  ...   22-5   4-7  31-11  3-4   9-5  5-10   7-5   8-3  13-3  7-0  \n",
       "\n",
       "[5 rows x 24 columns]"
      ]
     },
     "execution_count": 132,
     "metadata": {},
     "output_type": "execute_result"
    }
   ],
   "source": [
    "standings = pd.read_excel('standings.xls')\n",
    "\n",
    "standings.head()"
   ]
  },
  {
   "cell_type": "code",
   "execution_count": 133,
   "metadata": {},
   "outputs": [],
   "source": [
    "# 加入上赛季数据\n",
    "standings = pd.read_excel('standings.xls')\n",
    "# 建立新的特征（排名情况）\n",
    "dataset['HomeTeamRanksHigher'] = 0\n",
    "\n",
    "for index, row in dataset.iterrows():\n",
    "    home_team = row['Home Team']\n",
    "    visitor_team = row['Visitor Team']\n",
    "    home_rank = standings[standings['Team'] == home_team]['Rk'].values[0]\n",
    "    visitor_rank = standings[standings['Team'] == visitor_team]['Rk'].values[0]\n",
    "    row['HomeTeamRanksHigher'] = int(home_rank > visitor_rank)\n",
    "    dataset.at[index, 'HomeTeamRanksHigher'] = int(home_rank < visitor_rank)"
   ]
  },
  {
   "cell_type": "code",
   "execution_count": 134,
   "metadata": {},
   "outputs": [
    {
     "name": "stdout",
     "output_type": "stream",
     "text": [
      "score is:62.2%\n"
     ]
    }
   ],
   "source": [
    "clf = DecisionTreeClassifier(random_state=42)\n",
    "X_homehigher = dataset[[\n",
    "    'HomeLastWin', 'VisitorLastWin', 'HomeTeamRanksHigher'\n",
    "]].values\n",
    "\n",
    "score = cross_val_score(clf, X_homehigher, y_true, scoring='accuracy')\n",
    "print('score is:{0:.1f}%'.format(np.mean(score) * 100))"
   ]
  },
  {
   "cell_type": "code",
   "execution_count": 143,
   "metadata": {},
   "outputs": [],
   "source": [
    "last_match_winner = defaultdict(int)\n",
    "dataset['HomeTeamWonLast'] = 0\n",
    "for index, row in dataset.iterrows():\n",
    "    home_team = row['Home Team']\n",
    "    visitor_team = row['Visitor Team']\n",
    "    teams = tuple(sorted([home_team, visitor_team]))\n",
    "    home_team_won_last = 1 if last_match_winner[teams] == row[\n",
    "        'Home Team'] else 0\n",
    "    dataset.at[index, 'HomeTeamWonLast'] = home_team_won_last\n",
    "    winner = row['Home Team'] if row['HomeWin'] else row['Visitor Team']\n",
    "    last_match_winner[teams] = winner"
   ]
  },
  {
   "cell_type": "code",
   "execution_count": 144,
   "metadata": {},
   "outputs": [
    {
     "name": "stdout",
     "output_type": "stream",
     "text": [
      "score is:61.7%\n"
     ]
    }
   ],
   "source": [
    "clf = DecisionTreeClassifier(random_state=42)\n",
    "X_lastwinner = dataset[[\n",
    "    'HomeLastWin', 'VisitorLastWin', 'HomeTeamRanksHigher', 'HomeTeamWonLast'\n",
    "]].values\n",
    "\n",
    "score = cross_val_score(clf, X_lastwinner, y_true, scoring='accuracy')\n",
    "print('score is:{0:.1f}%'.format(np.mean(score) * 100))"
   ]
  },
  {
   "cell_type": "code",
   "execution_count": 153,
   "metadata": {},
   "outputs": [],
   "source": [
    "from sklearn.preprocessing import LabelEncoder\n",
    "from sklearn.preprocessing import OneHotEncoder\n",
    "\n",
    "encoding = LabelEncoder()\n",
    "onehot = OneHotEncoder()\n",
    "\n",
    "encoding.fit(dataset['Home Team'].values)\n",
    "home_teams = encoding.transform(dataset['Home Team'].values)\n",
    "visitor_teams = encoding.transform(dataset['Visitor Team'].values)\n",
    "X_teams = np.vstack([home_teams, visitor_teams]).T\n",
    "X_teams = onehot.fit_transform(X_teams).todense()\n",
    "X_all = np.hstack([X_lastwinner, X_teams])"
   ]
  },
  {
   "cell_type": "code",
   "execution_count": 154,
   "metadata": {},
   "outputs": [
    {
     "name": "stdout",
     "output_type": "stream",
     "text": [
      "score is:60.7%\n"
     ]
    }
   ],
   "source": [
    "clf = DecisionTreeClassifier(random_state=42)\n",
    "score = cross_val_score(clf, X_all, y_true, scoring='accuracy')\n",
    "print('score is:{0:.1f}%'.format(np.mean(score) * 100))"
   ]
  },
  {
   "cell_type": "code",
   "execution_count": 139,
   "metadata": {},
   "outputs": [
    {
     "name": "stdout",
     "output_type": "stream",
     "text": [
      "score is:61.6%\n"
     ]
    }
   ],
   "source": [
    "from sklearn.ensemble import RandomForestClassifier\n",
    "\n",
    "clf = RandomForestClassifier(random_state=42)\n",
    "score = cross_val_score(clf, X_teams, y_true, scoring = 'accuracy')\n",
    "print('score is:{0:.1f}%'.format(np.mean(score)*100))\n"
   ]
  },
  {
   "cell_type": "code",
   "execution_count": 149,
   "metadata": {},
   "outputs": [
    {
     "name": "stdout",
     "output_type": "stream",
     "text": [
      "score is:63.6%\n"
     ]
    }
   ],
   "source": [
    "clf = RandomForestClassifier(random_state=42)\n",
    "score = cross_val_score(clf, X_all, y_true, scoring='accuracy')\n",
    "print('score is:{0:.1f}%'.format(np.mean(score) * 100))"
   ]
  },
  {
   "cell_type": "code",
   "execution_count": 141,
   "metadata": {},
   "outputs": [
    {
     "name": "stdout",
     "output_type": "stream",
     "text": [
      "score is:63.6%\n"
     ]
    }
   ],
   "source": [
    "from sklearn.model_selection import GridSearchCV\n",
    "\n",
    "parameter_space = {\n",
    "    'max_features': [2, 10, 'auto'],\n",
    "    'n_estimators': [100, 200],\n",
    "    'criterion': ['gini', 'entropy'],\n",
    "    'min_samples_leaf': [2, 4, 6]\n",
    "}\n",
    "clf = RandomForestClassifier(random_state=42)\n",
    "grid = GridSearchCV(clf, parameter_space)\n",
    "grid.fit(X_all, y_true)\n",
    "print('score is:{0:.1f}%'.format(np.mean(score) * 100))"
   ]
  },
  {
   "cell_type": "code",
   "execution_count": null,
   "metadata": {},
   "outputs": [],
   "source": []
  },
  {
   "cell_type": "code",
   "execution_count": null,
   "metadata": {},
   "outputs": [],
   "source": []
  }
 ],
 "metadata": {
  "kernelspec": {
   "display_name": "Python 3",
   "language": "python",
   "name": "python3"
  },
  "language_info": {
   "codemirror_mode": {
    "name": "ipython",
    "version": 3
   },
   "file_extension": ".py",
   "mimetype": "text/x-python",
   "name": "python",
   "nbconvert_exporter": "python",
   "pygments_lexer": "ipython3",
   "version": "3.7.4"
  },
  "latex_envs": {
   "LaTeX_envs_menu_present": true,
   "autoclose": false,
   "autocomplete": true,
   "bibliofile": "biblio.bib",
   "cite_by": "apalike",
   "current_citInitial": 1,
   "eqLabelWithNumbers": true,
   "eqNumInitial": 1,
   "hotkeys": {
    "equation": "Ctrl-E",
    "itemize": "Ctrl-I"
   },
   "labels_anchors": false,
   "latex_user_defs": false,
   "report_style_numbering": false,
   "user_envs_cfg": false
  },
  "toc": {
   "base_numbering": 1,
   "nav_menu": {},
   "number_sections": true,
   "sideBar": true,
   "skip_h1_title": false,
   "title_cell": "Table of Contents",
   "title_sidebar": "Contents",
   "toc_cell": false,
   "toc_position": {},
   "toc_section_display": true,
   "toc_window_display": false
  }
 },
 "nbformat": 4,
 "nbformat_minor": 2
}
